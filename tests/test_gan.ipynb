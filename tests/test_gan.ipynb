{
 "cells": [
  {
   "cell_type": "code",
   "execution_count": 7,
   "id": "initial_id",
   "metadata": {
    "collapsed": true,
    "ExecuteTime": {
     "end_time": "2023-09-17T10:05:56.166131513Z",
     "start_time": "2023-09-17T10:05:55.944032835Z"
    }
   },
   "outputs": [
    {
     "name": "stdout",
     "output_type": "stream",
     "text": [
      "The autoreload extension is already loaded. To reload it, use:\n",
      "  %reload_ext autoreload\n"
     ]
    }
   ],
   "source": [
    "%load_ext autoreload\n",
    "%autoreload 2\n",
    "%matplotlib inline\n",
    "%load_ext tensorboard"
   ]
  },
  {
   "cell_type": "code",
   "execution_count": 2,
   "outputs": [],
   "source": [
    "from torch import optim\n",
    "from torchvision import models\n",
    "\n",
    "from datasets import ITSDataset, DomainDataset\n",
    "from gan.utils import CycleGANConfig, save_checkpoint, load_checkpoint\n",
    "from gan.generator import Generator\n",
    "from gan.discriminator import Discriminator\n",
    "from gan.trainer import PerceptualLoss, train, get_cycle_gan_trainer"
   ],
   "metadata": {
    "collapsed": false,
    "ExecuteTime": {
     "end_time": "2023-09-17T05:34:02.698043273Z",
     "start_time": "2023-09-17T05:33:58.315003710Z"
    }
   },
   "id": "956acd0c946e9181"
  },
  {
   "cell_type": "code",
   "execution_count": 3,
   "outputs": [],
   "source": [
    "config = CycleGANConfig(\n",
    "    \"../../commons/datasets/its/\",\n",
    "    \"HazeGan\",\n",
    "    \"v1\",\n",
    "    image_shape=(3, 56, 56),\n",
    "    latent_dim=64,\n",
    "    epochs=1, batch_size=4,\n",
    "    lr=2e-4,\n",
    "    betas=(0.5, 0.999),\n",
    "    lambdas=(10, 0.5),\n",
    "    residuals=9,\n",
    "    blocks=(64, 128, 256, 512)\n",
    ")"
   ],
   "metadata": {
    "collapsed": false,
    "ExecuteTime": {
     "end_time": "2023-09-17T05:34:02.784556058Z",
     "start_time": "2023-09-17T05:34:02.700896738Z"
    }
   },
   "id": "3360d2818ce85e56"
  },
  {
   "cell_type": "code",
   "execution_count": 4,
   "outputs": [],
   "source": [
    "ds = DomainDataset(\n",
    "    ITSDataset(config.dataset_path, SET=\"hazy\", download=True, img_transform=config.transforms, sub_sample=0.25),\n",
    "    ITSDataset(config.dataset_path, SET=\"clear\", download=True, img_transform=config.transforms, sub_sample=1)\n",
    ").to(config.device)"
   ],
   "metadata": {
    "collapsed": false,
    "ExecuteTime": {
     "end_time": "2023-09-17T05:34:11.509889313Z",
     "start_time": "2023-09-17T05:34:11.072186074Z"
    }
   },
   "id": "b255bf8e9f03f347"
  },
  {
   "cell_type": "code",
   "execution_count": 5,
   "outputs": [],
   "source": [
    "generator_A = Generator(config.image_shape[0], config.latent_dim, config.residuals)\n",
    "generator_B = Generator(config.image_shape[0], config.latent_dim, config.residuals)\n",
    "discriminator_A = Discriminator(config.image_shape[0], list(config.blocks))\n",
    "discriminator_B = Discriminator(config.image_shape[0], list(config.blocks))\n",
    "optimizer_G = optim.Adam(\n",
    "    list(generator_A.parameters()) + list(generator_B.parameters()),\n",
    "    lr=config.lr,\n",
    "    betas=config.betas\n",
    ")\n",
    "optimizer_D = optim.Adam(\n",
    "    list(discriminator_A.parameters()) + list(discriminator_B.parameters()),\n",
    "    lr=config.lr,\n",
    "    betas=config.betas\n",
    ")"
   ],
   "metadata": {
    "collapsed": false,
    "ExecuteTime": {
     "end_time": "2023-09-17T05:34:24.671514279Z",
     "start_time": "2023-09-17T05:34:23.945756855Z"
    }
   },
   "id": "146a7274921d27d1"
  },
  {
   "cell_type": "code",
   "execution_count": 6,
   "outputs": [],
   "source": [
    "perceptual_model = models.vgg19(weights=models.VGG19_Weights.IMAGENET1K_V1).features[:35].to(config.device)\n",
    "perceptual_loss = PerceptualLoss(perceptual_model)\n",
    "fixed_A, fixed_B = ds[:4].values()\n",
    "trainer = get_cycle_gan_trainer(generator_A, generator_B, discriminator_A, discriminator_B, optimizer_G, optimizer_D,\n",
    "                                perceptual_loss=perceptual_loss, lambda_cycle=config.lambdas[0],\n",
    "                                lambda_identity=config.lambdas[1],\n",
    "                                writer=config.writer, period=1,\n",
    "                                fixed_A=fixed_A, fixed_B=fixed_B)"
   ],
   "metadata": {
    "collapsed": false,
    "ExecuteTime": {
     "end_time": "2023-09-17T05:34:46.882591316Z",
     "start_time": "2023-09-17T05:34:42.148904558Z"
    }
   },
   "id": "4284189ab6408161"
  },
  {
   "cell_type": "code",
   "execution_count": null,
   "outputs": [],
   "source": [
    "file_name = \".pt\"\n",
    "others = load_checkpoint(\n",
    "    config.checkpoint_path / file_name,\n",
    "    {\"generator_A\": generator_A, \"generator_B\": generator_B, \"discriminator_A\": discriminator_A, \"discriminator_B\": discriminator_B},\n",
    "    {\"optimizer_G\": optimizer_G, \"optimizer_D\": optimizer_D},\n",
    ")"
   ],
   "metadata": {
    "collapsed": false
   },
   "id": "65ba2288a732c3dc"
  },
  {
   "cell_type": "code",
   "execution_count": null,
   "outputs": [],
   "source": [
    "train(\n",
    "    trainer, ds,\n",
    "    ne=config.epochs, bs=config.batch_size,\n",
    ")"
   ],
   "metadata": {
    "collapsed": false
   },
   "id": "ca99c3a43637171f"
  },
  {
   "cell_type": "code",
   "execution_count": null,
   "outputs": [],
   "source": [
    "file_path = save_checkpoint(\n",
    "    config.checkpoint_path,\n",
    "    {\"generator_A\": generator_A, \"generator_B\": generator_B, \"discriminator_A\": discriminator_A, \"discriminator_B\": discriminator_B},\n",
    "    {\"optimizer_G\": optimizer_G, \"optimizer_D\": optimizer_D},\n",
    ")"
   ],
   "metadata": {
    "collapsed": false
   },
   "id": "f536c23dd29cab65"
  },
  {
   "cell_type": "code",
   "execution_count": null,
   "outputs": [],
   "source": [],
   "metadata": {
    "collapsed": false
   },
   "id": "acbbe2e7f2efdd8b"
  }
 ],
 "metadata": {
  "kernelspec": {
   "display_name": "Python 3",
   "language": "python",
   "name": "python3"
  },
  "language_info": {
   "codemirror_mode": {
    "name": "ipython",
    "version": 2
   },
   "file_extension": ".py",
   "mimetype": "text/x-python",
   "name": "python",
   "nbconvert_exporter": "python",
   "pygments_lexer": "ipython2",
   "version": "2.7.6"
  }
 },
 "nbformat": 4,
 "nbformat_minor": 5
}
